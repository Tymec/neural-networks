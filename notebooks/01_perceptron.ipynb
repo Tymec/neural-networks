{
 "cells": [
  {
   "cell_type": "code",
   "execution_count": 25,
   "metadata": {},
   "outputs": [],
   "source": [
    "%matplotlib inline"
   ]
  },
  {
   "cell_type": "code",
   "execution_count": 26,
   "metadata": {},
   "outputs": [],
   "source": [
    "from typing import Callable\n",
    "\n",
    "import matplotlib.pyplot as plt\n",
    "import numpy as np\n",
    "import numpy.typing as npt"
   ]
  },
  {
   "cell_type": "code",
   "execution_count": 17,
   "metadata": {},
   "outputs": [],
   "source": [
    "class Network:\n",
    "    def __init__(self, num_inputs: int, activation_fn: Callable[[float], float]):\n",
    "        self.num_inputs = num_inputs\n",
    "        self.fn = activation_fn\n",
    "        self.weights = np.zeros(num_inputs)\n",
    "        self.bias = 0\n",
    "\n",
    "    def forward(self, x: npt.NDArray) -> float:\n",
    "        assert x.shape == (self.num_inputs,)\n",
    "        y = np.sum(x * self.weights) + self.bias\n",
    "        return self.fn(y)\n",
    "\n",
    "\n",
    "def binary_step(x: float) -> float:\n",
    "    return 1 if x >= 0 else 0"
   ]
  },
  {
   "cell_type": "code",
   "execution_count": 55,
   "metadata": {},
   "outputs": [
    {
     "data": {
      "image/png": "[encoded data removed]",
      "text/plain": [
       "<Figure size 640x480 with 1 Axes>"
      ]
     },
     "metadata": {},
     "output_type": "display_data"
    }
   ],
   "source": [
    "# Visualize activation function\n",
    "xs = np.arange(-1, 1, 0.01)\n",
    "ys = [binary_step(x) for x in xs]\n",
    "\n",
    "ax = plt.gca()\n",
    "ax.spines[\"left\"].set_position(\"zero\")\n",
    "ax.spines[\"right\"].set_color(\"none\")\n",
    "ax.spines[\"bottom\"].set_position(\"zero\")\n",
    "ax.spines[\"top\"].set_color(\"none\")\n",
    "ax.xaxis.set_ticks_position(\"bottom\")\n",
    "ax.yaxis.set_ticks_position(\"left\")\n",
    "\n",
    "ax.set_xlim([-1.2, 1.2])\n",
    "ax.set_ylim([-1.2, 1.2])\n",
    "\n",
    "plt.plot(xs, ys, color=\"b\", linewidth=2)\n",
    "plt.locator_params(nbins=4)\n",
    "plt.grid(True)\n",
    "plt.legend([\"binary_step()\"])\n",
    "plt.show()"
   ]
  },
  {
   "cell_type": "code",
   "execution_count": 21,
   "metadata": {},
   "outputs": [
    {
     "data": {
      "text/plain": [
       "0"
      ]
     },
     "execution_count": 21,
     "metadata": {},
     "output_type": "execute_result"
    }
   ],
   "source": [
    "net = Network(3, binary_step)\n",
    "\n",
    "net.forward(np.array([-1, -1, -1]))"
   ]
  },
  {
   "cell_type": "code",
   "execution_count": null,
   "metadata": {},
   "outputs": [],
   "source": []
  }
 ],
 "metadata": {
  "kernelspec": {
   "display_name": ".venv",
   "language": "python",
   "name": "python3"
  },
  "language_info": {
   "codemirror_mode": {
    "name": "ipython",
    "version": 3
   },
   "file_extension": ".py",
   "mimetype": "text/x-python",
   "name": "python",
   "nbconvert_exporter": "python",
   "pygments_lexer": "ipython3",
   "version": "3.11.6"
  }
 },
 "nbformat": 4,
 "nbformat_minor": 2
}
