{
 "cells": [
  {
   "cell_type": "markdown",
   "metadata": {},
   "source": [
    "# Feed-forward network"
   ]
  },
  {
   "cell_type": "markdown",
   "metadata": {},
   "source": [
    "## Imports\n"
   ]
  },
  {
   "cell_type": "code",
   "execution_count": 2,
   "metadata": {},
   "outputs": [],
   "source": [
    "%matplotlib inline"
   ]
  },
  {
   "cell_type": "code",
   "execution_count": 3,
   "metadata": {},
   "outputs": [],
   "source": [
    "import matplotlib.pyplot as plt\n",
    "import numpy as np\n",
    "import numpy.typing as npt\n",
    "from IPython import display"
   ]
  },
  {
   "cell_type": "markdown",
   "metadata": {},
   "source": [
    "## Helper functions"
   ]
  },
  {
   "cell_type": "code",
   "execution_count": 108,
   "metadata": {},
   "outputs": [],
   "source": [
    "def decision_boundary(fn) -> tuple[list, list, list]:\n",
    "    x = np.linspace(-1, 1, 100)\n",
    "    y = np.linspace(-1, 1, 100)\n",
    "    X, Y = np.meshgrid(x, y)\n",
    "    Z = np.zeros(X.shape)\n",
    "    for i in range(X.shape[0]):\n",
    "        for j in range(X.shape[1]):\n",
    "            Z[i, j] = fn([X[i, j], Y[i, j]])\n",
    "\n",
    "    return X, Y, Z\n",
    "\n",
    "\n",
    "def generate_linear(n: int, shift: int = 0.3) -> tuple[npt.ArrayLike, npt.ArrayLike]:\n",
    "    X = np.random.uniform(-1, 1, (100, 2))\n",
    "    y = np.zeros(100)\n",
    "    y[X[:, 0] + X[:, 1] + shift > 0] = 1\n",
    "    return X, y\n",
    "\n",
    "\n",
    "def generate_circle(n: int, r: float = 0.8) -> tuple[npt.ArrayLike, npt.ArrayLike]:\n",
    "    X = np.random.uniform(-1, 1, (100, 2))\n",
    "    y = np.zeros(100)\n",
    "    y[X[:, 0] ** 2 + X[:, 1] ** 2 < r**2] = 1\n",
    "    return X, y\n",
    "\n",
    "\n",
    "def generate_ring(n: int, inner_r: float = 0.5, outer_r: float = 0.8) -> tuple[npt.ArrayLike, npt.ArrayLike]:\n",
    "    X = np.random.uniform(-1, 1, (100, 2))\n",
    "    y = np.zeros(100)\n",
    "    y[(X[:, 0] ** 2 + X[:, 1] ** 2 > outer_r**2) | (X[:, 0] ** 2 + X[:, 1] ** 2 < inner_r**2)] = 1\n",
    "    return X, y"
   ]
  },
  {
   "cell_type": "markdown",
   "metadata": {},
   "source": [
    "## Network implementation"
   ]
  },
  {
   "cell_type": "code",
   "execution_count": 60,
   "metadata": {},
   "outputs": [],
   "source": [
    "# Activation functions\n",
    "\n",
    "\n",
    "class Sigmoid:\n",
    "    @staticmethod\n",
    "    def f(x: npt.ArrayLike) -> npt.ArrayLike:\n",
    "        return 1 / (1 + np.exp(-x))\n",
    "\n",
    "    @staticmethod\n",
    "    def df(x: npt.ArrayLike) -> npt.ArrayLike:\n",
    "        a = Sigmoid.f(x)\n",
    "        return a * (1 - a)\n",
    "\n",
    "\n",
    "class Tanh:\n",
    "    @staticmethod\n",
    "    def f(x: npt.ArrayLike) -> npt.ArrayLike:\n",
    "        return np.tanh(x)\n",
    "\n",
    "    @staticmethod\n",
    "    def df(x: npt.ArrayLike) -> npt.ArrayLike:\n",
    "        a = Tanh.f(x)\n",
    "        return 1 - a * a\n",
    "\n",
    "\n",
    "class ReLU:\n",
    "    @staticmethod\n",
    "    def f(x: npt.ArrayLike) -> npt.ArrayLike:\n",
    "        return np.maximum(0, x)\n",
    "\n",
    "    @staticmethod\n",
    "    def df(x: npt.ArrayLike) -> npt.ArrayLike:\n",
    "        return (x > 0).astype(int)"
   ]
  },
  {
   "cell_type": "code",
   "execution_count": 61,
   "metadata": {},
   "outputs": [],
   "source": [
    "# Loss functions\n",
    "\n",
    "\n",
    "class MeanSquaredError:\n",
    "    @staticmethod\n",
    "    def f(y_pred: npt.ArrayLike, y_true: npt.ArrayLike) -> npt.ArrayLike:\n",
    "        return np.mean((y_true - y_pred) ** 2)\n",
    "\n",
    "    @staticmethod\n",
    "    def df(y_pred: npt.ArrayLike, y_true: npt.ArrayLike) -> npt.ArrayLike:\n",
    "        return y_pred - y_true"
   ]
  },
  {
   "cell_type": "code",
   "execution_count": 62,
   "metadata": {},
   "outputs": [],
   "source": [
    "# Initializers\n",
    "\n",
    "\n",
    "class XavierUniform:\n",
    "    @staticmethod\n",
    "    def f(x: int, y: int) -> npt.ArrayLike:\n",
    "        return np.random.uniform(-1, 1, (x, y)) * np.sqrt(6 / (x + y))\n",
    "\n",
    "\n",
    "class Zeros:\n",
    "    @staticmethod\n",
    "    def f(x: int, y: int) -> npt.ArrayLike:\n",
    "        return np.zeros((x, y))"
   ]
  },
  {
   "cell_type": "code",
   "execution_count": 66,
   "metadata": {},
   "outputs": [],
   "source": [
    "class Layer:\n",
    "    def __init__(\n",
    "        self,\n",
    "        in_size: int,\n",
    "        out_size: int,\n",
    "        activation=Tanh,\n",
    "        init_weights=XavierUniform,\n",
    "        init_biases=Zeros,\n",
    "    ):\n",
    "        self.activation = activation\n",
    "\n",
    "        # Initialise weights and biases to random values\n",
    "        # self.weights = np.random.rand(out_size, in_size)\n",
    "        # self.biases = np.random.rand(1, out_size)[0]\n",
    "        self.weights = init_weights.f(out_size, in_size)\n",
    "        self.biases = init_biases.f(1, out_size)[0]\n",
    "\n",
    "        self.grad_weights = np.zeros(self.weights.shape)\n",
    "        self.grad_biases = np.zeros(self.biases.shape)\n",
    "\n",
    "    def __repr__(self):\n",
    "        in_size = self.weights.shape[1]\n",
    "        out_size = self.weights.shape[0]\n",
    "        return f\"Layer(in={in_size}, out={out_size}, activation={self.activation.__name__})\"\n",
    "\n",
    "    def forward(self, inputs: npt.ArrayLike, training: bool = False) -> npt.ArrayLike:\n",
    "        # Calculate the weighted sum of inputs and add the bias\n",
    "        z = np.dot(self.weights, inputs) + self.biases\n",
    "\n",
    "        # Store inputs and weighted inputs for backpropagation\n",
    "        if training:\n",
    "            self.inputs = inputs\n",
    "            self.z = z\n",
    "\n",
    "        # Apply the activation function\n",
    "        return self.activation.f(z)\n",
    "\n",
    "    def update_grads(self, dinputs: npt.ArrayLike) -> npt.ArrayLike:\n",
    "        # Calculate the gradient of the loss with respect to the weighted sum\n",
    "        d_z = dinputs * self.activation.df(self.z)\n",
    "        self.grad_weights += np.dot(d_z[:, None], self.inputs[None, :])\n",
    "        self.grad_biases += d_z\n",
    "        return d_z\n",
    "\n",
    "    def apply_grads(self, lr: float) -> None:\n",
    "        # Update weights and biases\n",
    "        self.weights -= lr * self.grad_weights\n",
    "        self.biases -= lr * self.grad_biases\n",
    "\n",
    "        # Reset gradients\n",
    "        self.grad_weights = np.zeros(self.weights.shape)\n",
    "        self.grad_biases = np.zeros(self.biases.shape)\n",
    "\n",
    "        # Reset inputs and weighted inputs\n",
    "        self.inputs = None\n",
    "        self.z = None\n",
    "\n",
    "\n",
    "class Network:\n",
    "    def __init__(self, layers: list[Layer], lr: float = 0.01, loss=MeanSquaredError):\n",
    "        self.layers = layers\n",
    "        self.learning_rate = lr\n",
    "        self.loss = loss\n",
    "\n",
    "    def __repr__(self):\n",
    "        return f\"Network({self.layers}, lr={self.learning_rate}, loss={self.loss.__name__})\"\n",
    "\n",
    "    def forward(self, inputs: npt.ArrayLike, training: bool = False) -> npt.ArrayLike:\n",
    "        for layer in self.layers:\n",
    "            inputs = layer.forward(inputs, training)\n",
    "\n",
    "        return inputs\n",
    "\n",
    "    def train(self, input_data: npt.ArrayLike, target_data: npt.ArrayLike) -> float:\n",
    "        loss = 0\n",
    "        for inputs, targets in zip(input_data, target_data):\n",
    "            loss += self.update_grads(inputs, targets)\n",
    "\n",
    "        for layer in self.layers:\n",
    "            layer.apply_grads(self.learning_rate)\n",
    "\n",
    "        return loss / len(input_data)\n",
    "\n",
    "    def update_grads(self, inputs: npt.ArrayLike, targets: npt.ArrayLike) -> float:\n",
    "        # Forward pass\n",
    "        predictions = self.forward(inputs, training=True)\n",
    "\n",
    "        # Backward pass\n",
    "        dinputs = self.loss.df(predictions, targets)\n",
    "        for layer in reversed(self.layers):\n",
    "            d_z = layer.update_grads(dinputs)\n",
    "            dinputs = np.dot(layer.weights.T, d_z)\n",
    "\n",
    "        return self.loss.f(predictions, targets)"
   ]
  },
  {
   "cell_type": "markdown",
   "metadata": {},
   "source": [
    "## Automatic training"
   ]
  },
  {
   "cell_type": "code",
   "execution_count": 113,
   "metadata": {},
   "outputs": [
    {
     "data": {
      "image/png": "[encoded data removed]",
      "text/plain": [
       "<Figure size 1000x500 with 2 Axes>"
      ]
     },
     "metadata": {},
     "output_type": "display_data"
    }
   ],
   "source": [
    "np.random.seed(0)\n",
    "net = Network([Layer(2, 3), Layer(3, 3), Layer(3, 1)], lr=0.0025, loss=MeanSquaredError)\n",
    "# X, y = generate_linear(100, shift=0.3)\n",
    "# X, y = generate_circle(100, r=0.8)\n",
    "X, y = generate_ring(100, inner_r=0.5, outer_r=0.8)\n",
    "\n",
    "fig, (ax1, ax2) = plt.subplots(1, 2, figsize=(10, 5))\n",
    "\n",
    "\n",
    "errors = []\n",
    "for i in range(1001):\n",
    "    err = net.train(X, y)\n",
    "    errors.append(err)\n",
    "\n",
    "    if i % 10 != 0:\n",
    "        continue\n",
    "\n",
    "    Xd, Yd, Zd = decision_boundary(lambda x: net.forward(x)[0] > 0.5)\n",
    "\n",
    "    ax1.clear()\n",
    "    ax1.scatter(X[y == 0, 0], X[y == 0, 1], c=\"blue\", marker=\"o\")\n",
    "    ax1.scatter(X[y == 1, 0], X[y == 1, 1], c=\"red\", marker=\"x\")\n",
    "    ax1.contourf(Xd, Yd, Zd, levels=[-1, 0, 1], alpha=0.3)\n",
    "\n",
    "    ax2.clear()\n",
    "    ax2.plot(errors)\n",
    "\n",
    "    ax1.set_xlabel(f\"Epoch {i}\")\n",
    "    ax2.set_xlabel(f\"Mean error {err}\")\n",
    "\n",
    "    display.clear_output(wait=True)\n",
    "    display.display(fig)\n",
    "\n",
    "    if err == 0:\n",
    "        break\n",
    "\n",
    "display.clear_output(wait=True)"
   ]
  },
  {
   "cell_type": "code",
   "execution_count": null,
   "metadata": {},
   "outputs": [],
   "source": []
  }
 ],
 "metadata": {
  "kernelspec": {
   "display_name": ".venv",
   "language": "python",
   "name": "python3"
  },
  "language_info": {
   "codemirror_mode": {
    "name": "ipython",
    "version": 3
   },
   "file_extension": ".py",
   "mimetype": "text/x-python",
   "name": "python",
   "nbconvert_exporter": "python",
   "pygments_lexer": "ipython3",
   "version": "3.11.6"
  }
 },
 "nbformat": 4,
 "nbformat_minor": 2
}
